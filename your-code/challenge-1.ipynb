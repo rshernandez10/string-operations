{
  "nbformat": 4,
  "nbformat_minor": 0,
  "metadata": {
    "kernelspec": {
      "display_name": "Python 3",
      "language": "python",
      "name": "python3"
    },
    "language_info": {
      "codemirror_mode": {
        "name": "ipython",
        "version": 3
      },
      "file_extension": ".py",
      "mimetype": "text/x-python",
      "name": "python",
      "nbconvert_exporter": "python",
      "pygments_lexer": "ipython3",
      "version": "3.7.2"
    },
    "colab": {
      "name": "challenge-1.ipynb",
      "provenance": [],
      "collapsed_sections": []
    }
  },
  "cells": [
    {
      "cell_type": "markdown",
      "metadata": {
        "id": "vDgrsc4dK-K2",
        "colab_type": "text"
      },
      "source": [
        "# String Operations Lab\n",
        "\n",
        "**Before your start:**\n",
        "\n",
        "- Read the README.md file\n",
        "- Comment as much as you can and use the resources in the README.md file\n",
        "- Happy learning!"
      ]
    },
    {
      "cell_type": "code",
      "metadata": {
        "id": "UEQtlV1JK-K5",
        "colab_type": "code",
        "colab": {}
      },
      "source": [
        "import re"
      ],
      "execution_count": 0,
      "outputs": []
    },
    {
      "cell_type": "markdown",
      "metadata": {
        "id": "BHc5fPNXK-LF",
        "colab_type": "text"
      },
      "source": [
        "# Challenge 1 - Combining Strings\n",
        "\n",
        "Combining strings is an important skill to acquire. There are multiple ways of combining strings in Python, as well as combining strings with variables. We will explore this in the first challenge. In the cell below, combine the strings in the list and add spaces between the strings (do not add a space after the last string). Insert a period after the last string."
      ]
    },
    {
      "cell_type": "code",
      "metadata": {
        "id": "WXg7R0gLK-LH",
        "colab_type": "code",
        "outputId": "2e298115-3790-4195-d90d-cf9c4d10252e",
        "colab": {
          "base_uri": "https://localhost:8080/",
          "height": 34
        }
      },
      "source": [
        "str_list = ['Durante', 'un', 'tiempo', 'no', 'estuvo', 'segura', 'de', 'si', 'su', 'marido', 'era', 'su', 'marido']\n",
        "# Your code here:\n",
        "\n",
        "str_list2=\" \".join(str_list)\n",
        "print(str_list2 + \".\")"
      ],
      "execution_count": 0,
      "outputs": [
        {
          "output_type": "stream",
          "text": [
            "Durante un tiempo no estuvo segura de si su marido era su marido.\n"
          ],
          "name": "stdout"
        }
      ]
    },
    {
      "cell_type": "markdown",
      "metadata": {
        "id": "Rwl-ja-pK-LP",
        "colab_type": "text"
      },
      "source": [
        "In the cell below, use the list of strings to create a grocery list. Start the list with the string `Grocery list: ` and include a comma and a space between each item except for the last one. Include a period at the end. Only include foods in the list that start with the letter 'b' and ensure all foods are lower case."
      ]
    },
    {
      "cell_type": "code",
      "metadata": {
        "id": "osuoJ4MsK-LQ",
        "colab_type": "code",
        "outputId": "c888d8f4-ae1b-414c-9bb1-74ef5fcd667e",
        "colab": {
          "base_uri": "https://localhost:8080/",
          "height": 34
        }
      },
      "source": [
        "food_list = ['Bananas', 'Chocolate', 'bread', 'diapers', 'Ice Cream', 'Brownie Mix', 'broccoli']\n",
        "# Your code here:\n",
        "\n",
        "grocery_list=(\", \".join(food_list))\n",
        "\n",
        "print(\"Grocery list:\",grocery_list,\".\")"
      ],
      "execution_count": 25,
      "outputs": [
        {
          "output_type": "stream",
          "text": [
            "Grocery list: Bananas, Chocolate, bread, diapers, Ice Cream, Brownie Mix, broccoli .\n"
          ],
          "name": "stdout"
        }
      ]
    },
    {
      "cell_type": "markdown",
      "metadata": {
        "id": "xK3R5wMsK-LV",
        "colab_type": "text"
      },
      "source": [
        "In the cell below, write a function that computes the area of a circle using its radius. Compute the area of the circle and insert the radius and the area between the two strings. Make sure to include spaces between the variable and the strings. \n",
        "\n",
        "Note: You can use the techniques we have learned so far or use f-strings. F-strings allow us to embed code inside strings. You can read more about f-strings [here](https://www.python.org/dev/peps/pep-0498/)."
      ]
    },
    {
      "cell_type": "code",
      "metadata": {
        "id": "DVY6LJ81K-LW",
        "colab_type": "code",
        "colab": {}
      },
      "source": [
        "import math\n",
        "\n",
        "string1 = \"The area of the circle with radius:\"\n",
        "string2  = \"is:\"\n",
        "radius = 4.5\n",
        "\n",
        "def area(x, pi = math.pi):\n",
        "    # This function takes a radius and returns the area of a circle. We also pass a default value for pi.\n",
        "    # Input: Float (and default value for pi)\n",
        "    # Output: Float\n",
        "    \n",
        "    # Sample input: 5.0\n",
        "    # Sample Output: 78.53981633\n",
        "    \n",
        "    # Your code here:\n",
        "    \n",
        "    \n",
        "# Your output string here:"
      ],
      "execution_count": 0,
      "outputs": []
    },
    {
      "cell_type": "markdown",
      "metadata": {
        "id": "wZ3Rj0CTK-La",
        "colab_type": "text"
      },
      "source": [
        "# Challenge 2 - Splitting Strings\n",
        "\n",
        "We have first looked at combining strings into one long string. There are times where we need to do the opposite and split the string into smaller components for further analysis. \n",
        "\n",
        "In the cell below, split the string into a list of strings using the space delimiter. Count the frequency of each word in the string in a dictionary. Strip the periods, line breaks and commas from the text. Make sure to remove empty strings from your dictionary."
      ]
    },
    {
      "cell_type": "code",
      "metadata": {
        "id": "K1viJVglK-Lb",
        "colab_type": "code",
        "outputId": "7decc558-34c9-4e23-bda4-144751eb4801",
        "colab": {
          "base_uri": "https://localhost:8080/",
          "height": 54
        }
      },
      "source": [
        "poem = \"\"\"Some say the world will end in fire,\n",
        "Some say in ice.\n",
        "From what I’ve tasted of desire\n",
        "I hold with those who favor fire.\n",
        "But if it had to perish twice,\n",
        "I think I know enough of hate\n",
        "To say that for destruction ice\n",
        "Is also great\n",
        "And would suffice.\"\"\"\n",
        "\n",
        "# Your code here:\n",
        "poem_spl=()\n",
        "poem_spl = poem.split()\n",
        "print(poem_spl)\n"
      ],
      "execution_count": 0,
      "outputs": [
        {
          "output_type": "stream",
          "text": [
            "['Some', 'say', 'the', 'world', 'will', 'end', 'in', 'fire,', 'Some', 'say', 'in', 'ice.', 'From', 'what', 'I’ve', 'tasted', 'of', 'desire', 'I', 'hold', 'with', 'those', 'who', 'favor', 'fire.', 'But', 'if', 'it', 'had', 'to', 'perish', 'twice,', 'I', 'think', 'I', 'know', 'enough', 'of', 'hate', 'To', 'say', 'that', 'for', 'destruction', 'ice', 'Is', 'also', 'great', 'And', 'would', 'suffice.']\n"
          ],
          "name": "stdout"
        }
      ]
    },
    {
      "cell_type": "markdown",
      "metadata": {
        "id": "8uI1DfRTK-Lf",
        "colab_type": "text"
      },
      "source": [
        "In the cell below, find all the words that appear in the text and do not appear in the blacklist. You must parse the string but can choose any data structure you wish for the words that do not appear in the blacklist. Remove all non letter characters and convert all words to lower case."
      ]
    },
    {
      "cell_type": "code",
      "metadata": {
        "id": "V4O-IsNkK-Lg",
        "colab_type": "code",
        "colab": {}
      },
      "source": [
        "blacklist = ['and', 'as', 'an', 'a', 'the', 'in', 'it']\n",
        "\n",
        "poem = \"\"\"I was angry with my friend; \n",
        "I told my wrath, my wrath did end.\n",
        "I was angry with my foe: \n",
        "I told it not, my wrath did grow. \n",
        "\n",
        "And I waterd it in fears,\n",
        "Night & morning with my tears: \n",
        "And I sunned it with smiles,\n",
        "And with soft deceitful wiles. \n",
        "\n",
        "And it grew both day and night. \n",
        "Till it bore an apple bright. \n",
        "And my foe beheld it shine,\n",
        "And he knew that it was mine. \n",
        "\n",
        "And into my garden stole, \n",
        "When the night had veild the pole; \n",
        "In the morning glad I see; \n",
        "My foe outstretched beneath the tree.\"\"\"\n",
        "\n",
        "# Your code here:\n"
      ],
      "execution_count": 0,
      "outputs": []
    },
    {
      "cell_type": "markdown",
      "metadata": {
        "id": "ChGvIpqbK-Lk",
        "colab_type": "text"
      },
      "source": [
        "# Challenge 3 - Regular Expressions\n",
        "\n",
        "Sometimes, we would like to perform more complex manipulations of our string. This is where regular expressions come in handy. In the cell below, return all characters that are upper case from the string specified below."
      ]
    },
    {
      "cell_type": "code",
      "metadata": {
        "id": "YRg52cTEK-Lk",
        "colab_type": "code",
        "colab": {
          "base_uri": "https://localhost:8080/",
          "height": 34
        },
        "outputId": "95fea4a6-6db7-42df-e567-2aeac0a70597"
      },
      "source": [
        "poem = \"\"\"The apparition of these faces in the crowd;\n",
        "Petals on a wet, black bough.\"\"\"\n",
        "\n",
        "# Your code here:\n",
        "import re\n",
        "\n",
        "mayusc = re.findall(\"[A-Z]\", poem)\n",
        "print(mayusc)"
      ],
      "execution_count": 21,
      "outputs": [
        {
          "output_type": "stream",
          "text": [
            "['T', 'P']\n"
          ],
          "name": "stdout"
        }
      ]
    },
    {
      "cell_type": "markdown",
      "metadata": {
        "id": "kb9qPNKJK-Ln",
        "colab_type": "text"
      },
      "source": [
        "In the cell below, filter the list provided and return all elements of the list containing a number. To filter the list, use the `re.search` function. Check if the function does not return `None`. You can read more about the `re.search` function [here](https://docs.python.org/3/library/re.html)."
      ]
    },
    {
      "cell_type": "code",
      "metadata": {
        "id": "y-oKaWjqK-Lo",
        "colab_type": "code",
        "colab": {
          "base_uri": "https://localhost:8080/",
          "height": 145
        },
        "outputId": "5b90c048-0b4f-4f09-f0da-1184486d6d32"
      },
      "source": [
        "data = ['123abc', 'abc123', 'JohnSmith1', 'ABBY4', 'JANE']\n",
        "\n",
        "# Your code here:\n",
        "\n",
        "\n"
      ],
      "execution_count": 29,
      "outputs": [
        {
          "output_type": "error",
          "ename": "SyntaxError",
          "evalue": "ignored",
          "traceback": [
            "\u001b[0;36m  File \u001b[0;32m\"<ipython-input-30-2f3f4a092640>\"\u001b[0;36m, line \u001b[0;32m4\u001b[0m\n\u001b[0;31m    for i in data.re.search('[\\d]', data)\u001b[0m\n\u001b[0m                                         ^\u001b[0m\n\u001b[0;31mSyntaxError\u001b[0m\u001b[0;31m:\u001b[0m invalid syntax\n"
          ]
        },
        {
          "output_type": "stream",
          "text": [
            "ERROR! Session/line number was not unique in database. History logging moved to new session 61\n"
          ],
          "name": "stdout"
        }
      ]
    },
    {
      "cell_type": "markdown",
      "metadata": {
        "id": "KcjIVW7UK-Lq",
        "colab_type": "text"
      },
      "source": [
        "# Bonus Challenge - Regular Expressions II\n",
        "\n",
        "In the cell below, filter the list provided to keep only strings containing at least one digit and at least one lower case letter. As in the previous question, use the `re.search` function and check that the result is not `None`.\n",
        "\n",
        "To read more about regular expressions, check out [this link](https://developers.google.com/edu/python/regular-expressions)."
      ]
    },
    {
      "cell_type": "code",
      "metadata": {
        "id": "JU4BM44bK-Lr",
        "colab_type": "code",
        "colab": {}
      },
      "source": [
        "data = ['123abc', 'abc123', 'JohnSmith1', 'ABBY4', 'JANE']\n",
        "# Your code here:\n"
      ],
      "execution_count": 0,
      "outputs": []
    }
  ]
}